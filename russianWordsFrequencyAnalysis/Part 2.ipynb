{
 "cells": [
  {
   "cell_type": "markdown",
   "metadata": {},
   "source": [
    "# Исследование частотного словаря русского языка. Часть 2\n",
    "Это исследование проведено в процессе освоения специальности Data Analyst на [Dataquest](https://www.dataquest.io/path/data-analyst). Его цель - попрактиковаться в работе с Pandas, Matplotlib (и немного Numpy), а заодно узнать что-нибудь интересное про русский язык.\n",
    "## Об источнике данных\n",
    "В этой работе в качестве источника использован [Частотный словарь русского языка](http://dict.ruslang.ru/freq.php) (далее для краткости \"частотный словарь\"), созданный О.Н. Ляшевской и С.А. Шаровым на основе [Национального корпуса русского языка](http://www.ruscorpora.ru/en/index.html) (далее \"корпус\"). \n",
    "\n",
    "Итак, прочитаем данные из CSV-файла, доступного для загрузки на сайте частотного словаря."
   ]
  },
  {
   "cell_type": "code",
   "execution_count": 2,
   "metadata": {},
   "outputs": [
    {
     "name": "stdout",
     "output_type": "stream",
     "text": [
      "<class 'pandas.core.frame.DataFrame'>\n",
      "RangeIndex: 52138 entries, 0 to 52137\n",
      "Data columns (total 6 columns):\n",
      "Lemma        52138 non-null object\n",
      "PoS          52138 non-null object\n",
      "Freq(ipm)    52138 non-null float64\n",
      "R            52138 non-null int64\n",
      "D            52138 non-null int64\n",
      "Doc          52138 non-null int64\n",
      "dtypes: float64(1), int64(3), object(2)\n",
      "memory usage: 2.4+ MB\n"
     ]
    }
   ],
   "source": [
    "import pandas as pd\n",
    "import numpy as np\n",
    "import matplotlib.pyplot as plt\n",
    "%matplotlib inline\n",
    "\n",
    "df = pd.read_csv('freq.txt', sep = '\\t')\n",
    "df.info()"
   ]
  },
  {
   "cell_type": "markdown",
   "metadata": {},
   "source": [
    "Столбцы полученной таблицы:\n",
    "- *Lemma* - исходная форма слова, обобщающая все найденные в текстах корпуса словоформы. Так, например, если в текстах корпуса встречаются слова \"большой\", \"большая\", \"больших\", то все они подсчитаны и \"записаны\" как единицы употребления слова \"большой\", а по отдельности в частотном словаре не встречаются.\n",
    "- *PoS* - часть речи, соответствующая лемме. Описания частей речи и их условные обозначения в частотном словаре можно найте в документе [\"Введение к частотному словарю современного русского языка\"](http://dict.ruslang.ru/freq.pdf) (далее для краткости \"Введение\") на странице 11. \n",
    "- *Freq(ipm)* - количество употреблений слова на миллион слов корпуса, или ipm (instances per million words).\n",
    "- *R* - range, показатель того, насколько общеупотребительным или, наоборот, специфичным является слово в плане литературного жанра. Чем ниже значение, тем более специфично слово. Например, слово \"корреляция\" (R = 36) более специфичное, характерно для научной и учебной литературы (см. в [корпусе](http://search1.ruscorpora.ru/stat.xml?env=alpha&mycorp=&mysent=&mysize=&mysentsize=&mydocsize=&dpp=&spp=&spd=&text=lexform&mode=main&sort=gr_tagging&lang=ru&nodia=1&req=%EA%EE%F0%F0%E5%EB%FF%F6%E8%FF&p=1)), а слово \"корректный\" (R = 94) более общеупотребительное. Показатель R рассчитан на основе количества сегментов корпуса, в которых встретилось слово.\n",
    "- *D* - коэффициент Жуайана. По смыслу то же, что R, но посчитан по более сложной формуле, и оценивается авторами как более надежный.\n",
    "- *Doc* - количество документов корпуса, в которых слово встретилось хотя бы раз.\n",
    "\n",
    "Подробнее про показатели можно прочитать во \"Введении\", раздел 4 на стр. 5\n",
    "\n",
    "Далее для целей исследования мне будет удобно, чтобы таблица была упорядочена по частоте в порядке убывания. Кроме того, я переиндексирую таблицу для удобства восприятия порядка элементов."
   ]
  },
  {
   "cell_type": "code",
   "execution_count": 3,
   "metadata": {},
   "outputs": [
    {
     "data": {
      "text/html": [
       "<div>\n",
       "<style>\n",
       "    .dataframe thead tr:only-child th {\n",
       "        text-align: right;\n",
       "    }\n",
       "\n",
       "    .dataframe thead th {\n",
       "        text-align: left;\n",
       "    }\n",
       "\n",
       "    .dataframe tbody tr th {\n",
       "        vertical-align: top;\n",
       "    }\n",
       "</style>\n",
       "<table border=\"1\" class=\"dataframe\">\n",
       "  <thead>\n",
       "    <tr style=\"text-align: right;\">\n",
       "      <th></th>\n",
       "      <th>Lemma</th>\n",
       "      <th>PoS</th>\n",
       "      <th>Freq(ipm)</th>\n",
       "      <th>R</th>\n",
       "      <th>D</th>\n",
       "      <th>Doc</th>\n",
       "    </tr>\n",
       "  </thead>\n",
       "  <tbody>\n",
       "    <tr>\n",
       "      <th>0</th>\n",
       "      <td>и</td>\n",
       "      <td>conj</td>\n",
       "      <td>35801.8</td>\n",
       "      <td>100</td>\n",
       "      <td>99</td>\n",
       "      <td>37704</td>\n",
       "    </tr>\n",
       "    <tr>\n",
       "      <th>1</th>\n",
       "      <td>в</td>\n",
       "      <td>pr</td>\n",
       "      <td>31374.2</td>\n",
       "      <td>100</td>\n",
       "      <td>98</td>\n",
       "      <td>37865</td>\n",
       "    </tr>\n",
       "    <tr>\n",
       "      <th>2</th>\n",
       "      <td>не</td>\n",
       "      <td>part</td>\n",
       "      <td>18028.0</td>\n",
       "      <td>100</td>\n",
       "      <td>97</td>\n",
       "      <td>33999</td>\n",
       "    </tr>\n",
       "    <tr>\n",
       "      <th>3</th>\n",
       "      <td>на</td>\n",
       "      <td>pr</td>\n",
       "      <td>15867.3</td>\n",
       "      <td>100</td>\n",
       "      <td>98</td>\n",
       "      <td>36748</td>\n",
       "    </tr>\n",
       "    <tr>\n",
       "      <th>4</th>\n",
       "      <td>я</td>\n",
       "      <td>spro</td>\n",
       "      <td>12684.4</td>\n",
       "      <td>100</td>\n",
       "      <td>95</td>\n",
       "      <td>17116</td>\n",
       "    </tr>\n",
       "  </tbody>\n",
       "</table>\n",
       "</div>"
      ],
      "text/plain": [
       "  Lemma   PoS  Freq(ipm)    R   D    Doc\n",
       "0     и  conj    35801.8  100  99  37704\n",
       "1     в    pr    31374.2  100  98  37865\n",
       "2    не  part    18028.0  100  97  33999\n",
       "3    на    pr    15867.3  100  98  36748\n",
       "4     я  spro    12684.4  100  95  17116"
      ]
     },
     "execution_count": 3,
     "metadata": {},
     "output_type": "execute_result"
    }
   ],
   "source": [
    "fr = df.sort_values('Freq(ipm)',ascending=False).reset_index(drop=True)\n",
    "fr.head(5)"
   ]
  },
  {
   "cell_type": "code",
   "execution_count": 4,
   "metadata": {},
   "outputs": [
    {
     "data": {
      "text/html": [
       "<div>\n",
       "<style>\n",
       "    .dataframe thead tr:only-child th {\n",
       "        text-align: right;\n",
       "    }\n",
       "\n",
       "    .dataframe thead th {\n",
       "        text-align: left;\n",
       "    }\n",
       "\n",
       "    .dataframe tbody tr th {\n",
       "        vertical-align: top;\n",
       "    }\n",
       "</style>\n",
       "<table border=\"1\" class=\"dataframe\">\n",
       "  <thead>\n",
       "    <tr style=\"text-align: right;\">\n",
       "      <th></th>\n",
       "      <th>Lemma</th>\n",
       "      <th>PoS</th>\n",
       "      <th>Freq(ipm)</th>\n",
       "      <th>R</th>\n",
       "      <th>D</th>\n",
       "      <th>Doc</th>\n",
       "    </tr>\n",
       "  </thead>\n",
       "  <tbody>\n",
       "    <tr>\n",
       "      <th>52133</th>\n",
       "      <td>плодотворность</td>\n",
       "      <td>s</td>\n",
       "      <td>0.4</td>\n",
       "      <td>20</td>\n",
       "      <td>77</td>\n",
       "      <td>25</td>\n",
       "    </tr>\n",
       "    <tr>\n",
       "      <th>52134</th>\n",
       "      <td>самоуправляемый</td>\n",
       "      <td>a</td>\n",
       "      <td>0.4</td>\n",
       "      <td>21</td>\n",
       "      <td>75</td>\n",
       "      <td>31</td>\n",
       "    </tr>\n",
       "    <tr>\n",
       "      <th>52135</th>\n",
       "      <td>хиромант</td>\n",
       "      <td>s</td>\n",
       "      <td>0.4</td>\n",
       "      <td>19</td>\n",
       "      <td>67</td>\n",
       "      <td>21</td>\n",
       "    </tr>\n",
       "    <tr>\n",
       "      <th>52136</th>\n",
       "      <td>хиромантия</td>\n",
       "      <td>s</td>\n",
       "      <td>0.4</td>\n",
       "      <td>22</td>\n",
       "      <td>77</td>\n",
       "      <td>25</td>\n",
       "    </tr>\n",
       "    <tr>\n",
       "      <th>52137</th>\n",
       "      <td>загород</td>\n",
       "      <td>s</td>\n",
       "      <td>0.4</td>\n",
       "      <td>19</td>\n",
       "      <td>71</td>\n",
       "      <td>23</td>\n",
       "    </tr>\n",
       "  </tbody>\n",
       "</table>\n",
       "</div>"
      ],
      "text/plain": [
       "                 Lemma PoS  Freq(ipm)   R   D  Doc\n",
       "52133   плодотворность   s        0.4  20  77   25\n",
       "52134  самоуправляемый   a        0.4  21  75   31\n",
       "52135         хиромант   s        0.4  19  67   21\n",
       "52136       хиромантия   s        0.4  22  77   25\n",
       "52137          загород   s        0.4  19  71   23"
      ]
     },
     "execution_count": 4,
     "metadata": {},
     "output_type": "execute_result"
    }
   ],
   "source": [
    "fr.tail(5)"
   ]
  },
  {
   "cell_type": "markdown",
   "metadata": {},
   "source": [
    "## Доверяй, но проверяй\n",
    "Несмотря на чрезвычайную надежность источника я все же проверю кое-какие из приведенных там цифр. В частности, информацию о том, какой процент текста покрывают наиболее частотные леммы. Цитирую:\n",
    "\"Десять самых частотных лемм покрывают 16.5% текста,  100 лемм – 37%, 1 000 лемм – 60%, 2 000 лемм – 69%, 10 000 – 85% всех текстов\" (см. \"Введение\", стр.5)."
   ]
  },
  {
   "cell_type": "code",
   "execution_count": 30,
   "metadata": {},
   "outputs": [
    {
     "name": "stdout",
     "output_type": "stream",
     "text": [
      "Первые 10 слов: 16%\n",
      "Первые 100 слов: 37%\n",
      "Первые 1000 слов: 61%\n",
      "Первые 2000 слов: 69%\n",
      "Первые 10000 слов: 86%\n"
     ]
    }
   ],
   "source": [
    "split_last_el = [10,100,1000,2000,10000]\n",
    "for i in range(5):\n",
    "    result = np.sum(fr['Freq(ipm)'].iloc[0:split_last_el[i]])/10000\n",
    "    print('Первые ' + str(split_last_el[i]) +' слов: ' + str(int(result)) + '%')"
   ]
  },
  {
   "cell_type": "markdown",
   "metadata": {},
   "source": [
    "Итак, в целом результаты совпадают. Есть расхождения в 1% (для 1000 и 10000 слов) и, честно говоря, не представляю, каковы причины этих расхождений. Возможно, дело в методике подсчета."
   ]
  },
  {
   "cell_type": "markdown",
   "metadata": {},
   "source": [
    "## Масштабы бедствия\n",
    "После формальной проверки можно заняться делом. Посмотрим для начала на распределение частот слов в частотном словаре, построив для этого гистограмму."
   ]
  },
  {
   "cell_type": "code",
   "execution_count": 6,
   "metadata": {},
   "outputs": [
    {
     "data": {
      "image/png": "[encoded data removed]",
      "text/plain": [
       "<matplotlib.figure.Figure at 0x9d07c88>"
      ]
     },
     "metadata": {},
     "output_type": "display_data"
    }
   ],
   "source": [
    "plt.hist(fr['Freq(ipm)'])\n",
    "plt.xlabel('Частота (ipm)')\n",
    "plt.ylabel('Количество слов')\n",
    "plt.show()"
   ]
  },
  {
   "cell_type": "markdown",
   "metadata": {},
   "source": [
    "Увидев эту гистограмму в первый раз я, признаться, подумала, что сделала что-то не так: вместо нескольких разновысотных столбиков, распределенных вдоль оси x, получила один-единственный. Но на самом деле никакой ошибки в посторении диаграммы нет. Такой ее вид отражает тот факт, что подавляющее большинство слов в частотном словаре попадают в диапазон частот от 0 до 1000, они и формируют этот единственный столбик. Остальных же слов настолько мало (сравнительно с общим числом), что их на гистограмме просто не видно.\n",
    "\n",
    "Чтобы поиллюстрировать этот факт, я сделаю выборку слов из частотного словаря, каждый раз увеличивая интервал между словами в 10 раз."
   ]
  },
  {
   "cell_type": "code",
   "execution_count": 31,
   "metadata": {},
   "outputs": [
    {
     "name": "stdout",
     "output_type": "stream",
     "text": [
      "Элемент 1: 31374.2\n",
      "Элемент 10: 5786.7\n",
      "Элемент 100: 902.8\n",
      "Элемент 1000: 121.2\n",
      "Элемент 10000: 8.2\n"
     ]
    }
   ],
   "source": [
    "for i in range(0,5):\n",
    "    elnum = 10**i\n",
    "    print ('Элемент ' + str(elnum) + ': ' + str(fr.iloc[elnum]['Freq(ipm)']))"
   ]
  },
  {
   "cell_type": "markdown",
   "metadata": {},
   "source": [
    "Как мы видим, уже сотый элемент списка имеет частоту меньше тысячи.\n",
    "\n",
    "Чтобы все-таки увидеть более привычную картину распределения (несколько столбиков вместо одного), я разобью частотный словарь на четыре неравные части, так чтобы масштабы величин внутри каждой из них были сопоставимы, и построю четыре гистограммы."
   ]
  },
  {
   "cell_type": "code",
   "execution_count": 8,
   "metadata": {},
   "outputs": [
    {
     "data": {
      "image/png": "[encoded data removed]",
      "text/plain": [
       "<matplotlib.figure.Figure at 0x5a234e0>"
      ]
     },
     "metadata": {},
     "output_type": "display_data"
    }
   ],
   "source": [
    "subsets = {\n",
    "    1: {'name': 'ipm менее 10', 'subset': fr[fr['Freq(ipm)'] < 10]},\n",
    "    2: {'name': 'ipm от 10 до 100', 'subset': fr[(fr['Freq(ipm)'] >= 10) & (fr['Freq(ipm)'] < 100)]},\n",
    "    3: {'name': 'ipm от 100 до 1000', 'subset': fr[(fr['Freq(ipm)'] >= 100) & (fr['Freq(ipm)'] < 1000)]},\n",
    "    4: {'name': 'ipm более 1000', 'subset': fr[fr['Freq(ipm)'] >= 1000]}\n",
    "}\n",
    "for i in range(1,5):\n",
    "    subsets[i]['number of rows'] = len(subsets[i]['subset'])\n",
    "\n",
    "fig = plt.figure(figsize=(17,4))\n",
    "for i in range(1,5):\n",
    "    fig.add_subplot(1,4,i)    \n",
    "    plt.hist(subsets[i]['subset']['Freq(ipm)'])\n",
    "    plt.title(str(subsets[i]['number of rows']) + ' слов, ' + str(subsets[i]['name']))\n",
    "plt.show()"
   ]
  },
  {
   "cell_type": "markdown",
   "metadata": {},
   "source": [
    "Теперь лучше. На первой гистограмме видно, что количество слов с частотой меньше единицы более 20 тысяч (это более трети частотного словаря), и затем, с увеличением частоты на единицу, резко снижается. С дальнейшим увеличением частоты уменьшение количества слов становится мене резким. Всего на первой гистограмме представлено более 43 тысяч слов, что составляет более 83% всего частотного словаря.\n",
    "\n",
    "Похожую ситуацию можно увидеть и на остальных гистограммах. Сделав поправку на масштабы каждой из них, мы можем представить динамику снижения количества слов с увеличением их частоты.\n",
    "### Выводы\n",
    "Подавляющее большинство слов в частотном словаре попадают в диапазон частот от 0 до 1000. Более трети словаря составляют слова с частотой меньше единицы (что означает менее одного слова на миллион в текстах корпуса). Около 83% слов в частотном словаре встречаются не более десяти раз на миллион слов корпуса. Только 90 слов встречаются чаще, чем 1000 раз на миллион слов в корпусе.\n",
    "\n",
    "Иными словами, гигантский пласт лексики используется редко или крайне редко, и только небольшая часть слов языка используется  более-менее часто."
   ]
  },
  {
   "cell_type": "markdown",
   "metadata": {},
   "source": [
    "## Не все части речи одинаково полезны\n",
    "В предыдущем исследовании (см. \"Исследование частотного словаря русского языка. Часть 1\") я подсчитывала количество частей речи в частотном словаре. Тогда вышло, что больше всего в частотном словаре существительных (46.93%), глаголов (23.68%) и прилагательных (22.2%), а меньше всего - союзов (0.16%), числительных (0.18%) и предлогов (0.22%).\n",
    "\n",
    "Теперь я хочу посмотреть не только на то, какой процент частотного словаря составляют разные части речи, но и насколько частотны они в текстах корпуса, то есть насколько интенсивно они используются в письменной речи.\n",
    "\n",
    "Для начала я сопоставлю обозначения частей речи, которые используются в частотном словаре, их названиям - так же, как я это делала в предыдущем исследовании. Кроме того, я сразу объединю некоторые части речи, которые в частотном словаре фигурируют по отдельности (например, adv и advpro обозначу как наречие, хотя в частотном словаре advpro - это местоименное наречие).\n",
    "\n",
    "Затем я применю созданный словарь к столбцу PoS и присоединю результирующий объект (Series с названиями частей речи на русском) к таблице с исходными данными."
   ]
  },
  {
   "cell_type": "code",
   "execution_count": 9,
   "metadata": {
    "collapsed": true
   },
   "outputs": [],
   "source": [
    "posNames = {\n",
    "'s' : 'существительное',\n",
    "'v' : 'глагол',\n",
    "'a' : 'прилагательное',\n",
    "'adv' : 'наречие',\n",
    "'advpro' : 'наречие',\n",
    "'spro' : 'местоимение',\n",
    "'apro' : 'местоимение',\n",
    "'num' : 'числительное',\n",
    "'anum' : 'числительное',\n",
    "'pr' : 'предлог',\n",
    "'conj' : 'союз',\n",
    "'part' : 'частица',\n",
    "'intj' : 'междометие',\n",
    "'s.PROP' : 'существительное',\n",
    "}"
   ]
  },
  {
   "cell_type": "code",
   "execution_count": 10,
   "metadata": {},
   "outputs": [
    {
     "data": {
      "text/plain": [
       "0           союз\n",
       "1        предлог\n",
       "2        частица\n",
       "3        предлог\n",
       "4    местоимение\n",
       "Name: Часть речи, dtype: object"
      ]
     },
     "execution_count": 10,
     "metadata": {},
     "output_type": "execute_result"
    }
   ],
   "source": [
    "fr['Часть речи'] = fr['PoS'].replace(posNames)\n",
    "fr['Часть речи'].iloc[0:5]"
   ]
  },
  {
   "cell_type": "markdown",
   "metadata": {},
   "source": [
    "Осталось сгруппировать элементы и подсчитать их суммарные частоты. Для этого я использую сводную таблицу (Pivot Table). Результирующую таблицу я использую для создания новой, в которой значения будут выражены в процентах."
   ]
  },
  {
   "cell_type": "code",
   "execution_count": 11,
   "metadata": {},
   "outputs": [
    {
     "data": {
      "text/html": [
       "<div>\n",
       "<style>\n",
       "    .dataframe thead tr:only-child th {\n",
       "        text-align: right;\n",
       "    }\n",
       "\n",
       "    .dataframe thead th {\n",
       "        text-align: left;\n",
       "    }\n",
       "\n",
       "    .dataframe tbody tr th {\n",
       "        vertical-align: top;\n",
       "    }\n",
       "</style>\n",
       "<table border=\"1\" class=\"dataframe\">\n",
       "  <thead>\n",
       "    <tr style=\"text-align: right;\">\n",
       "      <th></th>\n",
       "      <th>% текстов корпуса</th>\n",
       "    </tr>\n",
       "    <tr>\n",
       "      <th>Часть речи</th>\n",
       "      <th></th>\n",
       "    </tr>\n",
       "  </thead>\n",
       "  <tbody>\n",
       "    <tr>\n",
       "      <th>глагол</th>\n",
       "      <td>15.80436</td>\n",
       "    </tr>\n",
       "    <tr>\n",
       "      <th>междометие</th>\n",
       "      <td>0.09454</td>\n",
       "    </tr>\n",
       "    <tr>\n",
       "      <th>местоимение</th>\n",
       "      <td>11.54246</td>\n",
       "    </tr>\n",
       "    <tr>\n",
       "      <th>наречие</th>\n",
       "      <td>6.98276</td>\n",
       "    </tr>\n",
       "    <tr>\n",
       "      <th>предлог</th>\n",
       "      <td>10.94299</td>\n",
       "    </tr>\n",
       "    <tr>\n",
       "      <th>прилагательное</th>\n",
       "      <td>8.99839</td>\n",
       "    </tr>\n",
       "    <tr>\n",
       "      <th>союз</th>\n",
       "      <td>7.69896</td>\n",
       "    </tr>\n",
       "    <tr>\n",
       "      <th>существительное</th>\n",
       "      <td>28.53906</td>\n",
       "    </tr>\n",
       "    <tr>\n",
       "      <th>частица</th>\n",
       "      <td>3.97555</td>\n",
       "    </tr>\n",
       "    <tr>\n",
       "      <th>числительное</th>\n",
       "      <td>0.98575</td>\n",
       "    </tr>\n",
       "  </tbody>\n",
       "</table>\n",
       "</div>"
      ],
      "text/plain": [
       "                 % текстов корпуса\n",
       "Часть речи                        \n",
       "глагол                    15.80436\n",
       "междометие                 0.09454\n",
       "местоимение               11.54246\n",
       "наречие                    6.98276\n",
       "предлог                   10.94299\n",
       "прилагательное             8.99839\n",
       "союз                       7.69896\n",
       "существительное           28.53906\n",
       "частица                    3.97555\n",
       "числительное               0.98575"
      ]
     },
     "execution_count": 11,
     "metadata": {},
     "output_type": "execute_result"
    }
   ],
   "source": [
    "posFreq = fr.pivot_table(index=\"Часть речи\", values=\"Freq(ipm)\", aggfunc=np.sum)\n",
    "posStat = pd.DataFrame({'% текстов корпуса': posFreq['Freq(ipm)']/10000})\n",
    "posStat"
   ]
  },
  {
   "cell_type": "markdown",
   "metadata": {},
   "source": [
    "Теперь я просуммирую значения в таблице, чтобы понять, какую долю корпуса занимают слова, попавшие в частотный словарь. "
   ]
  },
  {
   "cell_type": "code",
   "execution_count": 12,
   "metadata": {},
   "outputs": [
    {
     "data": {
      "text/plain": [
       "% текстов корпуса    95.56482\n",
       "dtype: float64"
      ]
     },
     "execution_count": 12,
     "metadata": {},
     "output_type": "execute_result"
    }
   ],
   "source": [
    "np.sum(posStat)"
   ]
  },
  {
   "cell_type": "markdown",
   "metadata": {},
   "source": [
    "Что же, более чем 95% от всего корпуса - это, по-моему, достаточно много, чтобы на основе полученной информации сделать выводы относительно долей частей речи во всем корпусе. Даже если распределение частей речи в оставшейся \"за бортом\" части корпуса иное, мы можем этим пренебречь, так как это не будет сильно влиять на общий результат для всего корпуса.\n",
    "\n",
    "Теперь посчитаем, какой процент в частотном словаре составляют части речи. Я уже делала это в предыдущей части исследования, а теперь повторю, используя другой способ подсчета."
   ]
  },
  {
   "cell_type": "code",
   "execution_count": 13,
   "metadata": {},
   "outputs": [
    {
     "data": {
      "text/plain": [
       "существительное    46.929303\n",
       "глагол             23.675630\n",
       "прилагательное     22.196862\n",
       "наречие             5.677241\n",
       "междометие          0.360582\n",
       "частица             0.349074\n",
       "местоимение         0.249338\n",
       "предлог             0.222486\n",
       "числительное        0.178373\n",
       "союз                0.161111\n",
       "Name: Часть речи, dtype: float64"
      ]
     },
     "execution_count": 13,
     "metadata": {},
     "output_type": "execute_result"
    }
   ],
   "source": [
    "posCount = fr['Часть речи'].value_counts()\n",
    "posCountPercent = (posCount/len(fr['Часть речи']))*100\n",
    "posCountPercent"
   ]
  },
  {
   "cell_type": "markdown",
   "metadata": {},
   "source": [
    "Ццифры совпадают с результатами, полученными в предыдущем исследовании. Это хорошо.\n",
    "\n",
    "Теперь я присоединю результат к имеющейся таблице с информацией о распределении частей речи в корпусе, чтобы можно было сравнить эти значения."
   ]
  },
  {
   "cell_type": "code",
   "execution_count": 14,
   "metadata": {},
   "outputs": [
    {
     "data": {
      "text/html": [
       "<div>\n",
       "<style>\n",
       "    .dataframe thead tr:only-child th {\n",
       "        text-align: right;\n",
       "    }\n",
       "\n",
       "    .dataframe thead th {\n",
       "        text-align: left;\n",
       "    }\n",
       "\n",
       "    .dataframe tbody tr th {\n",
       "        vertical-align: top;\n",
       "    }\n",
       "</style>\n",
       "<table border=\"1\" class=\"dataframe\">\n",
       "  <thead>\n",
       "    <tr style=\"text-align: right;\">\n",
       "      <th></th>\n",
       "      <th>% текстов корпуса</th>\n",
       "      <th>% частотного словаря</th>\n",
       "    </tr>\n",
       "    <tr>\n",
       "      <th>Часть речи</th>\n",
       "      <th></th>\n",
       "      <th></th>\n",
       "    </tr>\n",
       "  </thead>\n",
       "  <tbody>\n",
       "    <tr>\n",
       "      <th>глагол</th>\n",
       "      <td>15.80436</td>\n",
       "      <td>23.675630</td>\n",
       "    </tr>\n",
       "    <tr>\n",
       "      <th>междометие</th>\n",
       "      <td>0.09454</td>\n",
       "      <td>0.360582</td>\n",
       "    </tr>\n",
       "    <tr>\n",
       "      <th>местоимение</th>\n",
       "      <td>11.54246</td>\n",
       "      <td>0.249338</td>\n",
       "    </tr>\n",
       "    <tr>\n",
       "      <th>наречие</th>\n",
       "      <td>6.98276</td>\n",
       "      <td>5.677241</td>\n",
       "    </tr>\n",
       "    <tr>\n",
       "      <th>предлог</th>\n",
       "      <td>10.94299</td>\n",
       "      <td>0.222486</td>\n",
       "    </tr>\n",
       "    <tr>\n",
       "      <th>прилагательное</th>\n",
       "      <td>8.99839</td>\n",
       "      <td>22.196862</td>\n",
       "    </tr>\n",
       "    <tr>\n",
       "      <th>союз</th>\n",
       "      <td>7.69896</td>\n",
       "      <td>0.161111</td>\n",
       "    </tr>\n",
       "    <tr>\n",
       "      <th>существительное</th>\n",
       "      <td>28.53906</td>\n",
       "      <td>46.929303</td>\n",
       "    </tr>\n",
       "    <tr>\n",
       "      <th>частица</th>\n",
       "      <td>3.97555</td>\n",
       "      <td>0.349074</td>\n",
       "    </tr>\n",
       "    <tr>\n",
       "      <th>числительное</th>\n",
       "      <td>0.98575</td>\n",
       "      <td>0.178373</td>\n",
       "    </tr>\n",
       "  </tbody>\n",
       "</table>\n",
       "</div>"
      ],
      "text/plain": [
       "                 % текстов корпуса  % частотного словаря\n",
       "Часть речи                                              \n",
       "глагол                    15.80436             23.675630\n",
       "междометие                 0.09454              0.360582\n",
       "местоимение               11.54246              0.249338\n",
       "наречие                    6.98276              5.677241\n",
       "предлог                   10.94299              0.222486\n",
       "прилагательное             8.99839             22.196862\n",
       "союз                       7.69896              0.161111\n",
       "существительное           28.53906             46.929303\n",
       "частица                    3.97555              0.349074\n",
       "числительное               0.98575              0.178373"
      ]
     },
     "execution_count": 14,
     "metadata": {},
     "output_type": "execute_result"
    }
   ],
   "source": [
    "posStat['% частотного словаря'] = posCountPercent\n",
    "posStat"
   ]
  },
  {
   "cell_type": "code",
   "execution_count": 15,
   "metadata": {},
   "outputs": [
    {
     "data": {
      "image/png": "[encoded data removed]",
      "text/plain": [
       "<matplotlib.figure.Figure at 0xad9db70>"
      ]
     },
     "metadata": {},
     "output_type": "display_data"
    }
   ],
   "source": [
    "posStat.plot.barh(figsize = (8,8))\n",
    "plt.show()"
   ]
  },
  {
   "cell_type": "markdown",
   "metadata": {},
   "source": [
    "На диаграмме видно, что некоторые части речи, такие как союзы или предлоги, занимают крошечную часть частотного словаря, но при этом довольно часто используются в текстах. Другие (например, прилагательные и существительные) составляют значительную часть частотного словаря, но в текстах их доля заметно меньше. Назовем отношение частотности частей речи в текстак к их доле в частотном словаре *интенсивностью использования* и сравним этот показатель для разных частей речи."
   ]
  },
  {
   "cell_type": "code",
   "execution_count": 16,
   "metadata": {},
   "outputs": [
    {
     "data": {
      "text/plain": [
       "Часть речи\n",
       "глагол              0.667537\n",
       "междометие          0.262188\n",
       "местоимение        46.292368\n",
       "наречие             1.229957\n",
       "предлог            49.184967\n",
       "прилагательное      0.405390\n",
       "союз               47.786711\n",
       "существительное     0.608129\n",
       "частица            11.388859\n",
       "числительное        5.526348\n",
       "dtype: float64"
      ]
     },
     "execution_count": 16,
     "metadata": {},
     "output_type": "execute_result"
    }
   ],
   "source": [
    "intensity = posStat['% текстов корпуса']/posStat['% частотного словаря']\n",
    "intensity"
   ]
  },
  {
   "cell_type": "markdown",
   "metadata": {},
   "source": [
    "Итак, интенсивность использования частей речи варьирует в пределах от приблизительно 0,26 (междометия) до чуть более 49 (предлоги). Посмотрим, как это выглядит на диаграмме."
   ]
  },
  {
   "cell_type": "code",
   "execution_count": 17,
   "metadata": {},
   "outputs": [
    {
     "data": {
      "image/png": "[encoded data removed]",
      "text/plain": [
       "<matplotlib.figure.Figure at 0xac0dc88>"
      ]
     },
     "metadata": {},
     "output_type": "display_data"
    }
   ],
   "source": [
    "intensity.plot.barh(figsize = (8,5))\n",
    "plt.title('Интенсивность использования частей речи')\n",
    "plt.show()"
   ]
  },
  {
   "cell_type": "markdown",
   "metadata": {},
   "source": [
    "### Выводы\n",
    "Наиболее интенсивно используются в текстах:\n",
    "- предлоги\n",
    "- союзы\n",
    "- местоимения\n",
    "\n",
    "Наименее интенсивно используются:\n",
    "- междометия\n",
    "- прилагательные\n",
    "- существительные"
   ]
  },
  {
   "cell_type": "markdown",
   "metadata": {},
   "source": [
    "## Связь длины слова и его частоты\n",
    "В первой части исследования я изучала длину слов в частотном словаре: сколько слов коротких, сколько длинных, и что это за слова. На этот раз я хочу посмотреть, есть ли какая-то связь между длиной слова и его частотой. Ведь мы уже выяснили, что самыми частотными словами являются служебные части речи, а они как раз самые короткие. Будут ли другие части речи чем короче, тем чаще встречаться в текстах?\n",
    "\n",
    "Для начала посмотрим на распределение длины слов. В прошлый раз я составляла словарь \"длина слова: количество слов этой длины\" и отметила, что распределение слов по длине похоже на нормальное. На этот раз мы построим гистограмму, чтобы получить более наглядную картину распределения."
   ]
  },
  {
   "cell_type": "code",
   "execution_count": 23,
   "metadata": {},
   "outputs": [
    {
     "data": {
      "image/png": "[encoded data removed]",
      "text/plain": [
       "<matplotlib.figure.Figure at 0xa5dca20>"
      ]
     },
     "metadata": {},
     "output_type": "display_data"
    }
   ],
   "source": [
    "fig = plt.figure(figsize=(10,4))\n",
    "plt.hist(fr['Lemma'].str.len(), bins=34);"
   ]
  },
  {
   "cell_type": "markdown",
   "metadata": {},
   "source": [
    "Да, распределение похоже на нормальное. Большинство слов имеют длину 5 - 12 букв. Попробуем теперь посмотреть, есть ли связь между длиной слова и его частотой. Построим для этого диаграмму рассеяния."
   ]
  },
  {
   "cell_type": "code",
   "execution_count": 91,
   "metadata": {},
   "outputs": [
    {
     "data": {
      "image/png": "[encoded data removed]",
      "text/plain": [
       "<matplotlib.figure.Figure at 0xece93c8>"
      ]
     },
     "metadata": {},
     "output_type": "display_data"
    }
   ],
   "source": [
    "fig = plt.figure(figsize=(10,4))\n",
    "plt.scatter(fr['Freq(ipm)'],fr['Lemma'].str.len());"
   ]
  },
  {
   "cell_type": "markdown",
   "metadata": {},
   "source": [
    "Похоже, снова придется разбить диаграмму на четыре неравные части, чтобы масштабы величин были сопоставимы."
   ]
  },
  {
   "cell_type": "code",
   "execution_count": 108,
   "metadata": {},
   "outputs": [
    {
     "data": {
      "image/png": "[encoded data removed]",
      "text/plain": [
       "<matplotlib.figure.Figure at 0x47f7b710>"
      ]
     },
     "metadata": {},
     "output_type": "display_data"
    }
   ],
   "source": [
    "fig = plt.figure(figsize=(17,4))\n",
    "for i in range(1,5):\n",
    "    fig.add_subplot(1,4,i)    \n",
    "    plt.scatter(subsets[i]['subset']['Freq(ipm)'],subsets[i]['subset']['Lemma'].str.len())\n",
    "    plt.title(str(subsets[i]['number of rows']) + ' слов, ' + str(subsets[i]['name']))\n",
    "    if i == 1:\n",
    "        plt.ylabel('Длина слова')\n",
    "plt.show()"
   ]
  },
  {
   "cell_type": "markdown",
   "metadata": {},
   "source": [
    "Теперь лучше. На первой диаграмме мы видим, что самые длинные слова (от 25 до 35 букв) имеют ipm меньше 4. На второй диаграмме таких длинных слов нет, и далее, с увеличением масштаба диаграммы мы видим что-то похожее на тенденцию более коротких слов иметь более высокий ipm. Но все же надо понимать, что подавляющее большинство слов попали на первую диаграмму, и, просто глядя на нее, невозможно понять, как распределены данные. Нам понадобится какой-то показатель, который бы нам сказал, есть корреляция или нет. Поскольку мы уже видели, что частоты слов не распределены нормально, то нам понадобится критерий из ряда непараметрических. Возьмем коэффициент корреляции Спирмена."
   ]
  },
  {
   "cell_type": "code",
   "execution_count": 29,
   "metadata": {},
   "outputs": [
    {
     "data": {
      "text/plain": [
       "SpearmanrResult(correlation=-0.24131754299225519, pvalue=0.0)"
      ]
     },
     "execution_count": 29,
     "metadata": {},
     "output_type": "execute_result"
    }
   ],
   "source": [
    "from scipy.stats import spearmanr\n",
    "spearmanr(fr['Freq(ipm)'],fr['Lemma'].str.len())"
   ]
  },
  {
   "cell_type": "markdown",
   "metadata": {},
   "source": [
    "Какая-то корреляция есть, но -0,24 - это довольно мало. Так что делаем вывод, что длина слова и его частота в масштабах всего частотного словаря связаны очень слабо. \n",
    "\n",
    "Но что если взять не весь словарь, а только самые частотные слова? Мне кажется, что-то из этого должно выйти. Почему я так думаю? А потому что язык так устроен. Любимый мною лингвист и преподаватель Дмитрий Петров говорит об этом примерно так (за точность не ручаюсь): \"Некоторые слова так часто используются, что со временем становятся короче\". И, как мне кажется, этот принцип должен реализоваться как раз на высокочастотных словах. Проверим."
   ]
  },
  {
   "cell_type": "code",
   "execution_count": 107,
   "metadata": {},
   "outputs": [
    {
     "name": "stdout",
     "output_type": "stream",
     "text": [
      "Первые 100 слов: -0.515250199579\n",
      "Первые 200 слов: -0.576580373651\n",
      "Первые 300 слов: -0.521758148027\n",
      "Первые 400 слов: -0.529072139595\n",
      "Первые 500 слов: -0.471146766096\n",
      "Первые 600 слов: -0.437616116048\n",
      "Первые 700 слов: -0.412524835808\n",
      "Первые 800 слов: -0.39744873639\n",
      "Первые 900 слов: -0.367792229036\n",
      "Первые 1000 слов: -0.357062822732\n"
     ]
    }
   ],
   "source": [
    "for i in range(100,1100,100):    \n",
    "    r, pval = spearmanr(fr.iloc[:i]['Freq(ipm)'],fr.iloc[:i]['Lemma'].str.len())\n",
    "    print('Первые ' + str(i) + ' слов: ' + str(r))"
   ]
  },
  {
   "cell_type": "markdown",
   "metadata": {},
   "source": [
    "Вот так мне больше нравится. Похоже, корреляция между длиной слова и его частотой все-таки существует, хотя и не очень выраженная. Наиболее ярко она проявляется на первых 200 самых частотных словах русского языка, и далее с убыванием частотности слов также убывает."
   ]
  },
  {
   "cell_type": "markdown",
   "metadata": {},
   "source": [
    "## Законы жанра"
   ]
  },
  {
   "cell_type": "code",
   "execution_count": 111,
   "metadata": {},
   "outputs": [
    {
     "data": {
      "image/png": "[encoded data removed]",
      "text/plain": [
       "<matplotlib.figure.Figure at 0xe9528d0>"
      ]
     },
     "metadata": {},
     "output_type": "display_data"
    }
   ],
   "source": [
    "fig = plt.figure(figsize=(14,5))\n",
    "fig.add_subplot(1,2,1)\n",
    "plt.hist(fr['D'])\n",
    "plt.xlabel('Коэффициент Жуайяна')\n",
    "plt.ylabel('Количество слов')\n",
    "fig.add_subplot(1,2,2)\n",
    "plt.hist(fr['R'])\n",
    "plt.xlabel('Коэффициент R')\n",
    "plt.show()"
   ]
  },
  {
   "cell_type": "code",
   "execution_count": 74,
   "metadata": {},
   "outputs": [
    {
     "data": {
      "image/png": "[encoded data removed]",
      "text/plain": [
       "<matplotlib.figure.Figure at 0xecccd30>"
      ]
     },
     "metadata": {},
     "output_type": "display_data"
    }
   ],
   "source": [
    "import seaborn as sns\n",
    "fig = plt.figure(figsize=(7,5))\n",
    "sns.kdeplot(fr['D'], shade = True)\n",
    "sns.kdeplot(fr['R'], shade = True)\n",
    "plt.show()"
   ]
  },
  {
   "cell_type": "code",
   "execution_count": 112,
   "metadata": {},
   "outputs": [
    {
     "data": {
      "image/png": "[encoded data removed]",
      "text/plain": [
       "<matplotlib.figure.Figure at 0xe9246a0>"
      ]
     },
     "metadata": {},
     "output_type": "display_data"
    }
   ],
   "source": [
    "fig = plt.figure(figsize=(10,10))\n",
    "plt.scatter(fr['R'],fr['D'])\n",
    "plt.xlabel('Коэффициент R')\n",
    "plt.ylabel('Коэффициент Жуайяна')\n",
    "plt.show()"
   ]
  },
  {
   "cell_type": "markdown",
   "metadata": {},
   "source": [
    "Можно заметить следующую тенденцию:\n",
    "- На низких значениях R (менее 30) небольшое увеличение R дает значительное увеличение D.\n",
    "- На значениях R выше 30, наоборот, значительное увеличение R дает незначительный прирост D.\n",
    "Но опять мы не можем сказать, что это наблюдение стопроцентно верно, так как мы не видим плотность распределения значений в верхей части диаграммы, где их большинство. Почему большинство? Если судить по распределению коэффициента Жуайяна на предыдущей диаграмме, где подавляющее большинство слов имеют коэффициент Жуайяна выше 50, а именно они составляют верхнюю половину диаграммы рассеяния.\n",
    "\n",
    "Попробуем посчитать корреляцию между коэффициентами. Я ожидаю, что корреляция должна быть заметная, поскольку оба коэффициента говорят об одном и том же признаке: специфичности или общеупотребимости слов. Данные в обоих случаях распределены нормально, так что мы можем использовать коэффициент корреляции Пирсона."
   ]
  },
  {
   "cell_type": "code",
   "execution_count": 60,
   "metadata": {},
   "outputs": [
    {
     "data": {
      "text/plain": [
       "(0.69262775242913177, 0.0)"
      ]
     },
     "execution_count": 60,
     "metadata": {},
     "output_type": "execute_result"
    }
   ],
   "source": [
    "from scipy.stats import pearsonr\n",
    "pearsonr(fr['R'],fr['D'])"
   ]
  },
  {
   "cell_type": "markdown",
   "metadata": {},
   "source": [
    "Что же, 0.69 - это довольно неплохо, связь достаточно выраженная. Но нельзя ли увидеть еще более выраженную связь, если анализировать не весь частотный словарь, а отдельные его части? Это уже помогло мне раньше увидеть связь между длиной слова и частотой на высокочастотных словах. Попробую похожий подход еще раз: буду разбивать список на две части по коэффициенту R (больше или меньше определенного значения) и анализировать каждую часть отдельно. Я ожидаю увидеть более выраженную корреляцию отдельно для слов с коэффициентом R меньше 30 (или около того) и отдельно - больше 30. "
   ]
  },
  {
   "cell_type": "code",
   "execution_count": 110,
   "metadata": {},
   "outputs": [
    {
     "data": {
      "text/html": [
       "<div>\n",
       "<style>\n",
       "    .dataframe thead tr:only-child th {\n",
       "        text-align: right;\n",
       "    }\n",
       "\n",
       "    .dataframe thead th {\n",
       "        text-align: left;\n",
       "    }\n",
       "\n",
       "    .dataframe tbody tr th {\n",
       "        vertical-align: top;\n",
       "    }\n",
       "</style>\n",
       "<table border=\"1\" class=\"dataframe\">\n",
       "  <thead>\n",
       "    <tr style=\"text-align: right;\">\n",
       "      <th></th>\n",
       "      <th>R</th>\n",
       "      <th>rLow</th>\n",
       "      <th>rHigh</th>\n",
       "    </tr>\n",
       "  </thead>\n",
       "  <tbody>\n",
       "    <tr>\n",
       "      <th>0</th>\n",
       "      <td>4</td>\n",
       "      <td>0.146179</td>\n",
       "      <td>0.693016</td>\n",
       "    </tr>\n",
       "    <tr>\n",
       "      <th>1</th>\n",
       "      <td>5</td>\n",
       "      <td>0.160922</td>\n",
       "      <td>0.693848</td>\n",
       "    </tr>\n",
       "    <tr>\n",
       "      <th>2</th>\n",
       "      <td>6</td>\n",
       "      <td>0.191736</td>\n",
       "      <td>0.694752</td>\n",
       "    </tr>\n",
       "    <tr>\n",
       "      <th>3</th>\n",
       "      <td>7</td>\n",
       "      <td>0.350908</td>\n",
       "      <td>0.694458</td>\n",
       "    </tr>\n",
       "    <tr>\n",
       "      <th>4</th>\n",
       "      <td>8</td>\n",
       "      <td>0.430594</td>\n",
       "      <td>0.693836</td>\n",
       "    </tr>\n",
       "    <tr>\n",
       "      <th>5</th>\n",
       "      <td>9</td>\n",
       "      <td>0.472386</td>\n",
       "      <td>0.693110</td>\n",
       "    </tr>\n",
       "    <tr>\n",
       "      <th>6</th>\n",
       "      <td>10</td>\n",
       "      <td>0.520015</td>\n",
       "      <td>0.691264</td>\n",
       "    </tr>\n",
       "    <tr>\n",
       "      <th>7</th>\n",
       "      <td>11</td>\n",
       "      <td>0.577064</td>\n",
       "      <td>0.688651</td>\n",
       "    </tr>\n",
       "    <tr>\n",
       "      <th>8</th>\n",
       "      <td>12</td>\n",
       "      <td>0.603104</td>\n",
       "      <td>0.685637</td>\n",
       "    </tr>\n",
       "    <tr>\n",
       "      <th>9</th>\n",
       "      <td>13</td>\n",
       "      <td>0.614766</td>\n",
       "      <td>0.682378</td>\n",
       "    </tr>\n",
       "    <tr>\n",
       "      <th>10</th>\n",
       "      <td>14</td>\n",
       "      <td>0.621313</td>\n",
       "      <td>0.678836</td>\n",
       "    </tr>\n",
       "    <tr>\n",
       "      <th>11</th>\n",
       "      <td>15</td>\n",
       "      <td>0.626982</td>\n",
       "      <td>0.675163</td>\n",
       "    </tr>\n",
       "    <tr>\n",
       "      <th>12</th>\n",
       "      <td>16</td>\n",
       "      <td>0.648746</td>\n",
       "      <td>0.670914</td>\n",
       "    </tr>\n",
       "    <tr>\n",
       "      <th>13</th>\n",
       "      <td>17</td>\n",
       "      <td>0.657357</td>\n",
       "      <td>0.666551</td>\n",
       "    </tr>\n",
       "    <tr>\n",
       "      <th>14</th>\n",
       "      <td>18</td>\n",
       "      <td>0.669390</td>\n",
       "      <td>0.662179</td>\n",
       "    </tr>\n",
       "    <tr>\n",
       "      <th>15</th>\n",
       "      <td>19</td>\n",
       "      <td>0.676125</td>\n",
       "      <td>0.657879</td>\n",
       "    </tr>\n",
       "    <tr>\n",
       "      <th>16</th>\n",
       "      <td>20</td>\n",
       "      <td>0.700059</td>\n",
       "      <td>0.651083</td>\n",
       "    </tr>\n",
       "    <tr>\n",
       "      <th>17</th>\n",
       "      <td>21</td>\n",
       "      <td>0.716649</td>\n",
       "      <td>0.645008</td>\n",
       "    </tr>\n",
       "    <tr>\n",
       "      <th>18</th>\n",
       "      <td>22</td>\n",
       "      <td>0.734067</td>\n",
       "      <td>0.638137</td>\n",
       "    </tr>\n",
       "    <tr>\n",
       "      <th>19</th>\n",
       "      <td>23</td>\n",
       "      <td>0.747692</td>\n",
       "      <td>0.631182</td>\n",
       "    </tr>\n",
       "    <tr>\n",
       "      <th>20</th>\n",
       "      <td>24</td>\n",
       "      <td>0.756305</td>\n",
       "      <td>0.624473</td>\n",
       "    </tr>\n",
       "    <tr>\n",
       "      <th>21</th>\n",
       "      <td>25</td>\n",
       "      <td>0.766341</td>\n",
       "      <td>0.616999</td>\n",
       "    </tr>\n",
       "    <tr>\n",
       "      <th>22</th>\n",
       "      <td>26</td>\n",
       "      <td>0.771952</td>\n",
       "      <td>0.610973</td>\n",
       "    </tr>\n",
       "    <tr>\n",
       "      <th>23</th>\n",
       "      <td>27</td>\n",
       "      <td>0.774102</td>\n",
       "      <td>0.603897</td>\n",
       "    </tr>\n",
       "    <tr>\n",
       "      <th>24</th>\n",
       "      <td>28</td>\n",
       "      <td>0.775394</td>\n",
       "      <td>0.597323</td>\n",
       "    </tr>\n",
       "    <tr>\n",
       "      <th>25</th>\n",
       "      <td>29</td>\n",
       "      <td>0.773149</td>\n",
       "      <td>0.591128</td>\n",
       "    </tr>\n",
       "    <tr>\n",
       "      <th>26</th>\n",
       "      <td>30</td>\n",
       "      <td>0.772320</td>\n",
       "      <td>0.585277</td>\n",
       "    </tr>\n",
       "    <tr>\n",
       "      <th>27</th>\n",
       "      <td>31</td>\n",
       "      <td>0.768421</td>\n",
       "      <td>0.579765</td>\n",
       "    </tr>\n",
       "    <tr>\n",
       "      <th>28</th>\n",
       "      <td>32</td>\n",
       "      <td>0.767197</td>\n",
       "      <td>0.575026</td>\n",
       "    </tr>\n",
       "    <tr>\n",
       "      <th>29</th>\n",
       "      <td>33</td>\n",
       "      <td>0.763800</td>\n",
       "      <td>0.569876</td>\n",
       "    </tr>\n",
       "    <tr>\n",
       "      <th>...</th>\n",
       "      <td>...</td>\n",
       "      <td>...</td>\n",
       "      <td>...</td>\n",
       "    </tr>\n",
       "    <tr>\n",
       "      <th>66</th>\n",
       "      <td>70</td>\n",
       "      <td>0.632053</td>\n",
       "      <td>0.411077</td>\n",
       "    </tr>\n",
       "    <tr>\n",
       "      <th>67</th>\n",
       "      <td>71</td>\n",
       "      <td>0.630171</td>\n",
       "      <td>0.405758</td>\n",
       "    </tr>\n",
       "    <tr>\n",
       "      <th>68</th>\n",
       "      <td>72</td>\n",
       "      <td>0.630087</td>\n",
       "      <td>0.402292</td>\n",
       "    </tr>\n",
       "    <tr>\n",
       "      <th>69</th>\n",
       "      <td>73</td>\n",
       "      <td>0.629530</td>\n",
       "      <td>0.396422</td>\n",
       "    </tr>\n",
       "    <tr>\n",
       "      <th>70</th>\n",
       "      <td>74</td>\n",
       "      <td>0.629420</td>\n",
       "      <td>0.391683</td>\n",
       "    </tr>\n",
       "    <tr>\n",
       "      <th>71</th>\n",
       "      <td>75</td>\n",
       "      <td>0.628498</td>\n",
       "      <td>0.386319</td>\n",
       "    </tr>\n",
       "    <tr>\n",
       "      <th>72</th>\n",
       "      <td>76</td>\n",
       "      <td>0.627697</td>\n",
       "      <td>0.379913</td>\n",
       "    </tr>\n",
       "    <tr>\n",
       "      <th>73</th>\n",
       "      <td>77</td>\n",
       "      <td>0.628578</td>\n",
       "      <td>0.374749</td>\n",
       "    </tr>\n",
       "    <tr>\n",
       "      <th>74</th>\n",
       "      <td>78</td>\n",
       "      <td>0.629115</td>\n",
       "      <td>0.369692</td>\n",
       "    </tr>\n",
       "    <tr>\n",
       "      <th>75</th>\n",
       "      <td>79</td>\n",
       "      <td>0.630350</td>\n",
       "      <td>0.365836</td>\n",
       "    </tr>\n",
       "    <tr>\n",
       "      <th>76</th>\n",
       "      <td>80</td>\n",
       "      <td>0.630667</td>\n",
       "      <td>0.358607</td>\n",
       "    </tr>\n",
       "    <tr>\n",
       "      <th>77</th>\n",
       "      <td>81</td>\n",
       "      <td>0.631257</td>\n",
       "      <td>0.353132</td>\n",
       "    </tr>\n",
       "    <tr>\n",
       "      <th>78</th>\n",
       "      <td>82</td>\n",
       "      <td>0.631732</td>\n",
       "      <td>0.348163</td>\n",
       "    </tr>\n",
       "    <tr>\n",
       "      <th>79</th>\n",
       "      <td>83</td>\n",
       "      <td>0.633005</td>\n",
       "      <td>0.343066</td>\n",
       "    </tr>\n",
       "    <tr>\n",
       "      <th>80</th>\n",
       "      <td>84</td>\n",
       "      <td>0.633407</td>\n",
       "      <td>0.337893</td>\n",
       "    </tr>\n",
       "    <tr>\n",
       "      <th>81</th>\n",
       "      <td>85</td>\n",
       "      <td>0.634395</td>\n",
       "      <td>0.333151</td>\n",
       "    </tr>\n",
       "    <tr>\n",
       "      <th>82</th>\n",
       "      <td>86</td>\n",
       "      <td>0.636240</td>\n",
       "      <td>0.332833</td>\n",
       "    </tr>\n",
       "    <tr>\n",
       "      <th>83</th>\n",
       "      <td>87</td>\n",
       "      <td>0.636897</td>\n",
       "      <td>0.322788</td>\n",
       "    </tr>\n",
       "    <tr>\n",
       "      <th>84</th>\n",
       "      <td>88</td>\n",
       "      <td>0.638059</td>\n",
       "      <td>0.318294</td>\n",
       "    </tr>\n",
       "    <tr>\n",
       "      <th>85</th>\n",
       "      <td>89</td>\n",
       "      <td>0.638971</td>\n",
       "      <td>0.304890</td>\n",
       "    </tr>\n",
       "    <tr>\n",
       "      <th>86</th>\n",
       "      <td>90</td>\n",
       "      <td>0.640126</td>\n",
       "      <td>0.297803</td>\n",
       "    </tr>\n",
       "    <tr>\n",
       "      <th>87</th>\n",
       "      <td>91</td>\n",
       "      <td>0.641742</td>\n",
       "      <td>0.294565</td>\n",
       "    </tr>\n",
       "    <tr>\n",
       "      <th>88</th>\n",
       "      <td>92</td>\n",
       "      <td>0.642963</td>\n",
       "      <td>0.283772</td>\n",
       "    </tr>\n",
       "    <tr>\n",
       "      <th>89</th>\n",
       "      <td>93</td>\n",
       "      <td>0.644605</td>\n",
       "      <td>0.272287</td>\n",
       "    </tr>\n",
       "    <tr>\n",
       "      <th>90</th>\n",
       "      <td>94</td>\n",
       "      <td>0.646948</td>\n",
       "      <td>0.261489</td>\n",
       "    </tr>\n",
       "    <tr>\n",
       "      <th>91</th>\n",
       "      <td>95</td>\n",
       "      <td>0.649487</td>\n",
       "      <td>0.253584</td>\n",
       "    </tr>\n",
       "    <tr>\n",
       "      <th>92</th>\n",
       "      <td>96</td>\n",
       "      <td>0.651809</td>\n",
       "      <td>0.232127</td>\n",
       "    </tr>\n",
       "    <tr>\n",
       "      <th>93</th>\n",
       "      <td>97</td>\n",
       "      <td>0.655052</td>\n",
       "      <td>0.209329</td>\n",
       "    </tr>\n",
       "    <tr>\n",
       "      <th>94</th>\n",
       "      <td>98</td>\n",
       "      <td>0.658831</td>\n",
       "      <td>0.175466</td>\n",
       "    </tr>\n",
       "    <tr>\n",
       "      <th>95</th>\n",
       "      <td>99</td>\n",
       "      <td>0.663991</td>\n",
       "      <td>0.145432</td>\n",
       "    </tr>\n",
       "  </tbody>\n",
       "</table>\n",
       "<p>96 rows × 3 columns</p>\n",
       "</div>"
      ],
      "text/plain": [
       "     R      rLow     rHigh\n",
       "0    4  0.146179  0.693016\n",
       "1    5  0.160922  0.693848\n",
       "2    6  0.191736  0.694752\n",
       "3    7  0.350908  0.694458\n",
       "4    8  0.430594  0.693836\n",
       "5    9  0.472386  0.693110\n",
       "6   10  0.520015  0.691264\n",
       "7   11  0.577064  0.688651\n",
       "8   12  0.603104  0.685637\n",
       "9   13  0.614766  0.682378\n",
       "10  14  0.621313  0.678836\n",
       "11  15  0.626982  0.675163\n",
       "12  16  0.648746  0.670914\n",
       "13  17  0.657357  0.666551\n",
       "14  18  0.669390  0.662179\n",
       "15  19  0.676125  0.657879\n",
       "16  20  0.700059  0.651083\n",
       "17  21  0.716649  0.645008\n",
       "18  22  0.734067  0.638137\n",
       "19  23  0.747692  0.631182\n",
       "20  24  0.756305  0.624473\n",
       "21  25  0.766341  0.616999\n",
       "22  26  0.771952  0.610973\n",
       "23  27  0.774102  0.603897\n",
       "24  28  0.775394  0.597323\n",
       "25  29  0.773149  0.591128\n",
       "26  30  0.772320  0.585277\n",
       "27  31  0.768421  0.579765\n",
       "28  32  0.767197  0.575026\n",
       "29  33  0.763800  0.569876\n",
       "..  ..       ...       ...\n",
       "66  70  0.632053  0.411077\n",
       "67  71  0.630171  0.405758\n",
       "68  72  0.630087  0.402292\n",
       "69  73  0.629530  0.396422\n",
       "70  74  0.629420  0.391683\n",
       "71  75  0.628498  0.386319\n",
       "72  76  0.627697  0.379913\n",
       "73  77  0.628578  0.374749\n",
       "74  78  0.629115  0.369692\n",
       "75  79  0.630350  0.365836\n",
       "76  80  0.630667  0.358607\n",
       "77  81  0.631257  0.353132\n",
       "78  82  0.631732  0.348163\n",
       "79  83  0.633005  0.343066\n",
       "80  84  0.633407  0.337893\n",
       "81  85  0.634395  0.333151\n",
       "82  86  0.636240  0.332833\n",
       "83  87  0.636897  0.322788\n",
       "84  88  0.638059  0.318294\n",
       "85  89  0.638971  0.304890\n",
       "86  90  0.640126  0.297803\n",
       "87  91  0.641742  0.294565\n",
       "88  92  0.642963  0.283772\n",
       "89  93  0.644605  0.272287\n",
       "90  94  0.646948  0.261489\n",
       "91  95  0.649487  0.253584\n",
       "92  96  0.651809  0.232127\n",
       "93  97  0.655052  0.209329\n",
       "94  98  0.658831  0.175466\n",
       "95  99  0.663991  0.145432\n",
       "\n",
       "[96 rows x 3 columns]"
      ]
     },
     "execution_count": 110,
     "metadata": {},
     "output_type": "execute_result"
    }
   ],
   "source": [
    "rows = []\n",
    "for number in range(4,100):\n",
    "    lowR = fr[fr['R'] < number]\n",
    "    highR = fr[fr['R'] >= number]\n",
    "    rLow, p_valueLow = pearsonr(lowR['R'],lowR['D'])\n",
    "    rHigh, p_valueHigh = pearsonr(highR['R'],highR['D'])\n",
    "    row = [number,rLow, rHigh]\n",
    "    rows.append(row)    \n",
    "pearsons = pd.DataFrame(rows, columns=['R','rLow','rHigh'])\n",
    "pearsons"
   ]
  },
  {
   "cell_type": "markdown",
   "metadata": {},
   "source": [
    "Итак, мы действительно получили максимальный коэффициент корреляции (около 0.775) на словах с R меньше 28, что близко к ожидаемому мной значению R=30. Но вот что касается остальной части слов (R больше или равно 28), то тут коэффициент корреляции меньше, чем подсчитанный на всем массиве данных (0.597 против 0.6926). И, как бы мы не разбивали данные, коэффициент корреляции, посчитанный на более общеупотребительных словах (R больше некоторого значения) всегда остается ниже, чем посчитанный на всех данных. Посмотрим, как это выглядит на диаграмме рассеяния. "
   ]
  },
  {
   "cell_type": "code",
   "execution_count": 94,
   "metadata": {},
   "outputs": [
    {
     "data": {
      "image/png": "[encoded data removed]",
      "text/plain": [
       "<matplotlib.figure.Figure at 0xe879470>"
      ]
     },
     "metadata": {},
     "output_type": "display_data"
    }
   ],
   "source": [
    "plt.scatter(pearsons['R'],pearsons['rLow'])\n",
    "plt.scatter(pearsons['R'],pearsons['rHigh']);"
   ]
  },
  {
   "cell_type": "markdown",
   "metadata": {},
   "source": [
    "Синяя кривая показывает изменение коэффициента корреляции по мере того, как мы добавляем более общеупотребительные слова к более специфичным. Максимального значения, как мы уже выяснили, корреляция достигает при выборке слов с R меньше 28, а при дальнейшем увеличении R плавно снижается, слегка увеличиваясь на значениях R от 80 до 100.\n",
    "\n",
    "Оранжевая кривая показывает изменение коэффициента корреляции по мере того, как мы \"выбрасываем\" из частотного словаря более специфические слова и оставляем более общеупотребительные. В этом случае коэффициент корреляции неуклонно снижается.\n",
    "\n",
    "О чем это может говорить? Наверное, о том, что наибольший вклад в корреляцию вносят слова с меньшим значением R. Видимо, более специфичные слова более однозначно идентифицируются обоими методами: и вычислением коэффициента Жуайяна, и вычислением R."
   ]
  }
 ],
 "metadata": {
  "kernelspec": {
   "display_name": "Python 3",
   "language": "python",
   "name": "python3"
  },
  "language_info": {
   "codemirror_mode": {
    "name": "ipython",
    "version": 3
   },
   "file_extension": ".py",
   "mimetype": "text/x-python",
   "name": "python",
   "nbconvert_exporter": "python",
   "pygments_lexer": "ipython3",
   "version": "3.6.2"
  }
 },
 "nbformat": 4,
 "nbformat_minor": 2
}
